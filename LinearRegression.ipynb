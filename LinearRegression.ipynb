{
  "nbformat": 4,
  "nbformat_minor": 0,
  "metadata": {
    "colab": {
      "provenance": [],
      "collapsed_sections": []
    },
    "kernelspec": {
      "name": "python3",
      "display_name": "Python 3"
    },
    "language_info": {
      "name": "python"
    }
  },
  "cells": [
    {
      "cell_type": "markdown",
      "source": [
        "#### Preparing our dataset"
      ],
      "metadata": {
        "id": "26p4o0MpZpbB"
      }
    },
    {
      "cell_type": "code",
      "source": [
        "import numpy as np\n",
        "from sklearn import datasets\n",
        "from sklearn.model_selection import train_test_split\n",
        "import matplotlib.pyplot as plt\n",
        "\n",
        "X, y = datasets.make_regression(n_samples=100, n_features=1, noise=20, random_state=4)\n",
        "X_train, X_test, y_train, y_test = train_test_split(X, y, test_size=0.2, random_state=1234)\n",
        "\n",
        "plt.scatter(X[:,0], y, color='b', marker='+', s=30)\n",
        "plt.ylabel('x', size=20)\n",
        "plt.xlabel('y', size=20)\n",
        "plt.grid()"
      ],
      "metadata": {
        "colab": {
          "base_uri": "https://localhost:8080/",
          "height": 288
        },
        "id": "9wbj4c5VZoq9",
        "outputId": "4d99909e-0fa1-45b1-8019-a2ed25d59102"
      },
      "execution_count": 22,
      "outputs": [
        {
          "output_type": "display_data",
          "data": {
            "text/plain": [
              "<Figure size 432x288 with 1 Axes>"
            ],
            "image/png": "[encoded data removed]"
          },
          "metadata": {
            "needs_background": "light"
          }
        }
      ]
    },
    {
      "cell_type": "markdown",
      "source": [
        "#### Implementing the Linear Regression logic"
      ],
      "metadata": {
        "id": "5U0tjtgZV0Z1"
      }
    },
    {
      "cell_type": "code",
      "source": [
        "class LinearRegression:\n",
        "  '''Implementing the Linear regression algorithm.'''\n",
        "  def __init__(self, lr=0.01, n_iters=1000):\n",
        "    self.lr = lr\n",
        "    self.n_iters = n_iters\n",
        "    self.weights = None\n",
        "    self.bias = None\n",
        "\n",
        "  def fit(self, X, y):\n",
        "    '''training the dataset'''\n",
        "    # initializing the weights and bias\n",
        "    n_samples, n_features = X.shape\n",
        "    self.weights = np.zeros(n_features)\n",
        "    self.bias = 0\n",
        "\n",
        "    for _ in range(self.n_iters):\n",
        "      y_pred = np.dot(X, self.weights) + self.bias\n",
        "      dw = (2/n_samples)* np.dot(X.T, (y - y_pred))\n",
        "      db = (2/n_samples)* np.sum(y - y_pred)\n",
        "\n",
        "      self.weights += self.lr * dw\n",
        "      self.bias += self.lr * db\n",
        "\n",
        "  def predict(self, X):\n",
        "    '''predicting for the dataset'''\n",
        "    return np.dot(X, self.weights) + self.bias\n"
      ],
      "metadata": {
        "id": "wpKGIJ-bMgXV"
      },
      "execution_count": 23,
      "outputs": []
    },
    {
      "cell_type": "markdown",
      "source": [
        "#### Testing the Linear Regressor"
      ],
      "metadata": {
        "id": "VaRdwxgPV6If"
      }
    },
    {
      "cell_type": "code",
      "source": [
        "regressor = LinearRegression(lr=0.001)\n",
        "regressor.fit(X_train, y_train)\n",
        "y_pred = regressor.predict(X_test)\n",
        "\n",
        "def mse(y_pred, y_true):\n",
        "  return np.mean((y_pred - y_true)**2)\n",
        "\n",
        "print(mse(y_pred, y_test))\n",
        "plt.scatter(X_train, y_train, color='b', marker='+', s=30)\n",
        "plt.scatter(X_test, y_test, color='r', marker='+', s=30)\n",
        "plt.plot(X, regressor.predict(X), color='k', linewidth=2.5)\n",
        "plt.ylabel('x', size=20)\n",
        "plt.xlabel('y', size=20)\n",
        "plt.grid()"
      ],
      "metadata": {
        "colab": {
          "base_uri": "https://localhost:8080/",
          "height": 305
        },
        "id": "TdTQlxIqV-FG",
        "outputId": "050cfa4f-c0cb-420e-9ae4-a9f9d91a0f6a"
      },
      "execution_count": 33,
      "outputs": [
        {
          "output_type": "stream",
          "name": "stdout",
          "text": [
            "361.2812896055198\n"
          ]
        },
        {
          "output_type": "display_data",
          "data": {
            "text/plain": [
              "<Figure size 432x288 with 1 Axes>"
            ],
            "image/png": "[encoded data removed]"
          },
          "metadata": {
            "needs_background": "light"
          }
        }
      ]
    },
    {
      "cell_type": "markdown",
      "source": [
        "###### Credits: https://www.youtube.com/watch?v=ltXSoduiVwY"
      ],
      "metadata": {
        "id": "qjXr5J7wKb58"
      }
    }
  ]
}